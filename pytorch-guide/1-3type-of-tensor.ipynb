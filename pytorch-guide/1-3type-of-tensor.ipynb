{
 "cells": [
  {
   "cell_type": "code",
   "execution_count": 2,
   "metadata": {},
   "outputs": [],
   "source": [
    "import torch\n",
    "import numpy as np"
   ]
  },
  {
   "cell_type": "markdown",
   "metadata": {},
   "source": [
    "# part1 tensor to numpy "
   ]
  },
  {
   "cell_type": "code",
   "execution_count": 9,
   "metadata": {},
   "outputs": [],
   "source": [
    "# 1. tensor to numpy list\n",
    "def test01():\n",
    "    data_tensor = torch.tensor([1, 2, 3])\n",
    "    data_np = data_tensor.numpy()\n",
    "\n",
    "    print(type(data_tensor))\n",
    "    print(type(data_np))\n",
    "\n",
    "# 2. tensor and numpy list sharing memory\n",
    "def test02():\n",
    "    data_tensor = torch.tensor([1, 2, 3])\n",
    "    data_np = data_tensor.numpy()\n",
    "\n",
    "    # change value of tensor will change the value of numpy list\n",
    "    data_tensor[0] = 100\n",
    "\n",
    "    print(data_tensor)\n",
    "    print(data_np)\n",
    "\n",
    "# 3. using copy function not sharing the memory\n",
    "def test03():\n",
    "    data_tensor = torch.tensor([1, 2, 3])\n",
    "    data_np = data_tensor.numpy().copy()\n",
    "\n",
    "    data_tensor[0] = 100\n",
    "\n",
    "    print(data_tensor)\n",
    "    print(data_np)\n"
   ]
  },
  {
   "cell_type": "code",
   "execution_count": 11,
   "metadata": {},
   "outputs": [
    {
     "name": "stdout",
     "output_type": "stream",
     "text": [
      "tensor([100,   2,   3])\n",
      "[1 2 3]\n"
     ]
    }
   ],
   "source": [
    "if __name__ == '__main__':\n",
    "    test03()"
   ]
  },
  {
   "cell_type": "markdown",
   "metadata": {},
   "source": [
    "# part2 numpy to tensor"
   ]
  },
  {
   "cell_type": "code",
   "execution_count": 16,
   "metadata": {},
   "outputs": [],
   "source": [
    "# 1. from_numpy function\n",
    "def test01():\n",
    "    data_np = np.array([2, 3, 4])\n",
    "    data_tensor = torch.from_numpy(data_np) # directly change type\n",
    "    print(type(data_np))\n",
    "    print(type(data_tensor))\n",
    "\n",
    "    # default sharing memory\n",
    "    data_tensor[0] = 100\n",
    "\n",
    "    print(data_np)\n",
    "    print(data_tensor)\n",
    "# 2. torch.tensor function\n",
    "def test02():\n",
    "    data_np = np.array([2, 3, 4])\n",
    "    data_tensor = torch.tensor(data_np) # creating a copy of numpy array in tensor\n",
    "\n",
    "    # change value of tensor will change the value of numpy list\n",
    "    data_tensor[0] = 100\n",
    "\n",
    "    print(data_tensor)\n",
    "    print(data_np)\n"
   ]
  },
  {
   "cell_type": "code",
   "execution_count": 17,
   "metadata": {},
   "outputs": [
    {
     "name": "stdout",
     "output_type": "stream",
     "text": [
      "tensor([100,   3,   4], dtype=torch.int32)\n",
      "[2 3 4]\n"
     ]
    }
   ],
   "source": [
    "if __name__ == '__main__':\n",
    "    test02()"
   ]
  },
  {
   "cell_type": "markdown",
   "metadata": {},
   "source": [
    "# part3 math tensor to number"
   ]
  },
  {
   "cell_type": "code",
   "execution_count": 22,
   "metadata": {},
   "outputs": [],
   "source": [
    "def test():\n",
    "    t1 = torch.tensor(30)\n",
    "    t2 = torch.tensor([30])\n",
    "    t3 = torch.tensor([[30]])\n",
    "\n",
    "    print(t1.shape)\n",
    "    print(t2.shape)\n",
    "    print(t3.shape)\n",
    "\n",
    "    # get value only # note: avaiable for only one number case\n",
    "    print(t1.item()) \n",
    "    print(t2.item())\n",
    "    print(t3.item())\n",
    "\n",
    "    t4 = torch.tensor([[30,1]])\n",
    "    print(t4.item())"
   ]
  },
  {
   "cell_type": "code",
   "execution_count": 23,
   "metadata": {},
   "outputs": [
    {
     "name": "stdout",
     "output_type": "stream",
     "text": [
      "torch.Size([])\n",
      "torch.Size([1])\n",
      "torch.Size([1, 1])\n",
      "30\n",
      "30\n",
      "30\n"
     ]
    },
    {
     "ename": "RuntimeError",
     "evalue": "a Tensor with 2 elements cannot be converted to Scalar",
     "output_type": "error",
     "traceback": [
      "\u001b[1;31m---------------------------------------------------------------------------\u001b[0m",
      "\u001b[1;31mRuntimeError\u001b[0m                              Traceback (most recent call last)",
      "Cell \u001b[1;32mIn[23], line 2\u001b[0m\n\u001b[0;32m      1\u001b[0m \u001b[38;5;28;01mif\u001b[39;00m \u001b[38;5;18m__name__\u001b[39m \u001b[38;5;241m==\u001b[39m \u001b[38;5;124m'\u001b[39m\u001b[38;5;124m__main__\u001b[39m\u001b[38;5;124m'\u001b[39m:\n\u001b[1;32m----> 2\u001b[0m     \u001b[43mtest\u001b[49m\u001b[43m(\u001b[49m\u001b[43m)\u001b[49m\n",
      "Cell \u001b[1;32mIn[22], line 16\u001b[0m, in \u001b[0;36mtest\u001b[1;34m()\u001b[0m\n\u001b[0;32m     13\u001b[0m \u001b[38;5;28mprint\u001b[39m(t3\u001b[38;5;241m.\u001b[39mitem())\n\u001b[0;32m     15\u001b[0m t4 \u001b[38;5;241m=\u001b[39m torch\u001b[38;5;241m.\u001b[39mtensor([[\u001b[38;5;241m30\u001b[39m,\u001b[38;5;241m1\u001b[39m]])\n\u001b[1;32m---> 16\u001b[0m \u001b[38;5;28mprint\u001b[39m(\u001b[43mt4\u001b[49m\u001b[38;5;241;43m.\u001b[39;49m\u001b[43mitem\u001b[49m\u001b[43m(\u001b[49m\u001b[43m)\u001b[49m)\n",
      "\u001b[1;31mRuntimeError\u001b[0m: a Tensor with 2 elements cannot be converted to Scalar"
     ]
    }
   ],
   "source": [
    "if __name__ == '__main__':\n",
    "    test()"
   ]
  }
 ],
 "metadata": {
  "kernelspec": {
   "display_name": "cuda",
   "language": "python",
   "name": "python3"
  },
  "language_info": {
   "codemirror_mode": {
    "name": "ipython",
    "version": 3
   },
   "file_extension": ".py",
   "mimetype": "text/x-python",
   "name": "python",
   "nbconvert_exporter": "python",
   "pygments_lexer": "ipython3",
   "version": "3.11.8"
  }
 },
 "nbformat": 4,
 "nbformat_minor": 2
}
