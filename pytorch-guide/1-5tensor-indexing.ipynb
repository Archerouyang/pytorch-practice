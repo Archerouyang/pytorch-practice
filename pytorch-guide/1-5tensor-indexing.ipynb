{
 "cells": [
  {
   "cell_type": "code",
   "execution_count": 3,
   "metadata": {},
   "outputs": [],
   "source": [
    "import torch"
   ]
  },
  {
   "cell_type": "markdown",
   "metadata": {},
   "source": [
    "# 1. row, col and list indexing"
   ]
  },
  {
   "cell_type": "code",
   "execution_count": 15,
   "metadata": {},
   "outputs": [],
   "source": [
    "# 1. row col indexing\n",
    "def test01():\n",
    "    data = torch.randint(0, 10, [4,5])\n",
    "    print(data)\n",
    "    print('-'*30)\n",
    "\n",
    "    # 1.1 get target row element\n",
    "    print(data[0])\n",
    "    # 1.2 get target col element\n",
    "    print(data[:, 0])\n",
    "\n",
    "# 2. list indexing\n",
    "def test02():\n",
    "    torch.manual_seed(10)\n",
    "\n",
    "    data = torch.randint(0, 10, [4,5])\n",
    "    print(data)\n",
    "    print('-'*30)\n",
    "\n",
    "    print(data[[0,2,3],[0,1,2]]) # get [0,0], [2,1], [3,2]\n",
    "    print(data[[[0],[2],[3]],[0, 1, 2]]) # get 0, 1, 2 cols from 0, 2, 3 rows"
   ]
  },
  {
   "cell_type": "code",
   "execution_count": 16,
   "metadata": {},
   "outputs": [
    {
     "name": "stdout",
     "output_type": "stream",
     "text": [
      "tensor([[7, 5, 2, 7, 2],\n",
      "        [5, 7, 2, 1, 5],\n",
      "        [6, 3, 1, 0, 6],\n",
      "        [3, 4, 0, 6, 2]])\n",
      "------------------------------\n",
      "tensor([7, 3, 0])\n",
      "tensor([[7, 5, 2],\n",
      "        [6, 3, 1],\n",
      "        [3, 4, 0]])\n"
     ]
    }
   ],
   "source": [
    "if __name__ == '__main__':\n",
    "    test02()"
   ]
  },
  {
   "cell_type": "markdown",
   "metadata": {},
   "source": [
    "# 2. bool indexing and mutlti dimention indexing"
   ]
  },
  {
   "cell_type": "code",
   "execution_count": 24,
   "metadata": {},
   "outputs": [],
   "source": [
    "# 1. bool indexing\n",
    "def test01():\n",
    "    torch.manual_seed(10)\n",
    "    data = torch.randint(0, 10, [4,5])\n",
    "    print(data)\n",
    "    print('-'*30)\n",
    "\n",
    "    # values > 3 in tensor\n",
    "    print(data > 3) # returning bool values\n",
    "    print('-'*30)\n",
    "    \n",
    "    # 返回第二列元素大于6的行\n",
    "    print(data[data[:, 1] > 6])\n",
    "    print('-'*30)\n",
    "\n",
    "    # 返回第二行大于3的所有列\n",
    "    print(data[:,data[1] > 3])\n",
    "    print('-'*30)"
   ]
  },
  {
   "cell_type": "code",
   "execution_count": 25,
   "metadata": {},
   "outputs": [
    {
     "name": "stdout",
     "output_type": "stream",
     "text": [
      "tensor([[7, 5, 2, 7, 2],\n",
      "        [5, 7, 2, 1, 5],\n",
      "        [6, 3, 1, 0, 6],\n",
      "        [3, 4, 0, 6, 2]])\n",
      "------------------------------\n",
      "tensor([[ True,  True, False,  True, False],\n",
      "        [ True,  True, False, False,  True],\n",
      "        [ True, False, False, False,  True],\n",
      "        [False,  True, False,  True, False]])\n",
      "------------------------------\n",
      "tensor([[5, 7, 2, 1, 5]])\n",
      "------------------------------\n",
      "tensor([[7, 5, 2],\n",
      "        [5, 7, 5],\n",
      "        [6, 3, 6],\n",
      "        [3, 4, 2]])\n",
      "------------------------------\n"
     ]
    }
   ],
   "source": [
    "if __name__ == '__main__':\n",
    "    test01()"
   ]
  },
  {
   "cell_type": "code",
   "execution_count": 30,
   "metadata": {},
   "outputs": [],
   "source": [
    "# 2. multi dimension indexing\n",
    "def test02():\n",
    "    torch.manual_seed(10)\n",
    "\n",
    "    data = torch.randint(0, 10, [3, 4, 5])\n",
    "    print(data)\n",
    "    print('-'*30)\n",
    "\n",
    "    print(data[0, :, :])\n",
    "    print('-'*30)"
   ]
  },
  {
   "cell_type": "code",
   "execution_count": 31,
   "metadata": {},
   "outputs": [
    {
     "name": "stdout",
     "output_type": "stream",
     "text": [
      "tensor([[[7, 5, 2, 7, 2],\n",
      "         [5, 7, 2, 1, 5],\n",
      "         [6, 3, 1, 0, 6],\n",
      "         [3, 4, 0, 6, 2]],\n",
      "\n",
      "        [[8, 9, 2, 0, 9],\n",
      "         [9, 4, 4, 9, 4],\n",
      "         [4, 5, 4, 0, 8],\n",
      "         [9, 3, 0, 9, 3]],\n",
      "\n",
      "        [[7, 9, 5, 2, 9],\n",
      "         [6, 6, 2, 8, 9],\n",
      "         [6, 9, 1, 9, 2],\n",
      "         [1, 2, 9, 7, 2]]])\n",
      "------------------------------\n",
      "tensor([[7, 5, 2, 7, 2],\n",
      "        [5, 7, 2, 1, 5],\n",
      "        [6, 3, 1, 0, 6],\n",
      "        [3, 4, 0, 6, 2]])\n",
      "------------------------------\n"
     ]
    }
   ],
   "source": [
    "if __name__ == '__main__':\n",
    "    test02()"
   ]
  }
 ],
 "metadata": {
  "kernelspec": {
   "display_name": "cuda",
   "language": "python",
   "name": "python3"
  },
  "language_info": {
   "codemirror_mode": {
    "name": "ipython",
    "version": 3
   },
   "file_extension": ".py",
   "mimetype": "text/x-python",
   "name": "python",
   "nbconvert_exporter": "python",
   "pygments_lexer": "ipython3",
   "version": "3.11.8"
  }
 },
 "nbformat": 4,
 "nbformat_minor": 2
}
