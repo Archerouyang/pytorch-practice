{
 "cells": [
  {
   "cell_type": "code",
   "execution_count": 3,
   "metadata": {},
   "outputs": [],
   "source": [
    "import torch\n",
    "import numpy as np"
   ]
  },
  {
   "cell_type": "markdown",
   "metadata": {},
   "source": [
    "# part1 basic calculation"
   ]
  },
  {
   "cell_type": "code",
   "execution_count": 4,
   "metadata": {},
   "outputs": [],
   "source": [
    "# 1. non inplace calculation\n",
    "def test01():\n",
    "    data = torch.randint(0, 10, [2,3])\n",
    "    print(data)\n",
    "    data = data.add(10)\n",
    "    print(data)\n",
    "    \n",
    "    # sub, mul, div, neg\n",
    "# 2. inplace calculation\n",
    "def test02():\n",
    "    data = torch.randint(0, 10, [2,3])\n",
    "    print(data)\n",
    "    data.add_(10)\n",
    "    print(data)"
   ]
  },
  {
   "cell_type": "code",
   "execution_count": 5,
   "metadata": {},
   "outputs": [
    {
     "name": "stdout",
     "output_type": "stream",
     "text": [
      "tensor([[4, 6, 6],\n",
      "        [5, 7, 0]])\n",
      "tensor([[14, 16, 16],\n",
      "        [15, 17, 10]])\n"
     ]
    }
   ],
   "source": [
    "if __name__ == '__main__':\n",
    "    test02()"
   ]
  },
  {
   "cell_type": "markdown",
   "metadata": {},
   "source": [
    "# part2 Hadamard product"
   ]
  },
  {
   "cell_type": "code",
   "execution_count": 12,
   "metadata": {},
   "outputs": [],
   "source": [
    "# 1. using mul\n",
    "def test01():\n",
    "    data1 = torch.tensor([[1,2], [3,4]])\n",
    "    data2 = torch.tensor([[3,4], [5,6]])\n",
    "    data = data1.mul(data2)\n",
    "    print(data)\n",
    "    \n",
    "# 2. using '*'\n",
    "def test02():\n",
    "    data1 = torch.tensor([[1,2], [3,4]])\n",
    "    data2 = torch.tensor([[3,4], [5,6]])\n",
    "    data = data1*data2\n",
    "    print(data)"
   ]
  },
  {
   "cell_type": "code",
   "execution_count": 13,
   "metadata": {},
   "outputs": [
    {
     "name": "stdout",
     "output_type": "stream",
     "text": [
      "tensor([[ 3,  8],\n",
      "        [15, 24]])\n",
      "tensor([[ 3,  8],\n",
      "        [15, 24]])\n"
     ]
    }
   ],
   "source": [
    "if __name__ == '__main__':\n",
    "    test01()\n",
    "    test02()"
   ]
  },
  {
   "cell_type": "markdown",
   "metadata": {},
   "source": [
    "# part3 dot product"
   ]
  },
  {
   "cell_type": "code",
   "execution_count": 30,
   "metadata": {},
   "outputs": [],
   "source": [
    "# 1. using @ \n",
    "def test01():\n",
    "    data1 = torch.tensor([[1,2], [3,4], [5,6]]) # 3*2\n",
    "    data2 = torch.tensor([[3,4], [5,6]]) # 2*2\n",
    "    data = data1@data2\n",
    "    print(data)\n",
    "# 2. using mm function\n",
    "def test02():\n",
    "    data1 = torch.tensor([[1,2], [3,4], [5,6]]) # 3*2\n",
    "    data2 = torch.tensor([[3,4], [5,6]]) # 2*2\n",
    "    data = torch.mm(data1,data2)\n",
    "    print(data)\n",
    "# 3. using bmm function # mm but for same number of multiple matrices in each tensor\n",
    "def test03():\n",
    "    data1 = torch.randn(3,4,5) \n",
    "    data2 = torch.randn(3,5,8) \n",
    "    data = torch.bmm(data1,data2)\n",
    "    print(data.shape)\n",
    "# 4. using matmul function # bmm+mm\n",
    "def test04():\n",
    "    data1 = torch.randn(4,5) \n",
    "    data2 = torch.randn(5,8) \n",
    "    print(torch.matmul(data1,data2).shape)\n",
    "    data1 = torch.randn(3,4,5) \n",
    "    data2 = torch.randn(3,5,8) \n",
    "    print(torch.matmul(data1,data2).shape)\n",
    "    data1 = torch.randn(3,4,5) \n",
    "    data2 = torch.randn(5,8) \n",
    "    print(torch.matmul(data1,data2).shape)"
   ]
  },
  {
   "cell_type": "code",
   "execution_count": 31,
   "metadata": {},
   "outputs": [
    {
     "name": "stdout",
     "output_type": "stream",
     "text": [
      "torch.Size([4, 8])\n",
      "torch.Size([3, 4, 8])\n",
      "torch.Size([3, 4, 8])\n"
     ]
    }
   ],
   "source": [
    "if __name__ == '__main__':\n",
    "    test04()"
   ]
  },
  {
   "cell_type": "markdown",
   "metadata": {},
   "source": [
    "# part4 set calculating device"
   ]
  },
  {
   "cell_type": "code",
   "execution_count": null,
   "metadata": {},
   "outputs": [],
   "source": [
    "# 1. using cude\n",
    "def test01():\n",
    "    data = torch.tensor([10,20,30])\n",
    "    print('device:', data.device)\n",
    "\n",
    "    # moving to gpu\n",
    "    data = data.cuda()\n",
    "    print('device:', data.device)\n",
    "\n",
    "    # moving tensor from gpu to cpu\n",
    "    data = data.cpu()\n",
    "    print('device:', data.device)\n",
    "# 2. creating tensors on the gpu directly\n",
    "def test02():\n",
    "    data = torch.tensor([10,20,30], device = 'cuda:0')\n",
    "    print('device:', data.device)\n",
    "# 3. using to method\n",
    "def test03(): \n",
    "    data = torch.tensor([10,20,30])\n",
    "    print('device:', data.device)\n",
    "\n",
    "    data = data.to('cuda:0')\n",
    "    print('device:', data.device)\n",
    "# 4. note: tensors storing on differnt devices can not directly do calculation\n",
    "def test04(): \n",
    "    data1 = torch.tensor([10,20,30])\n",
    "    data2 = torch.tensor([10,20,30], device = 'cuda:0')\n",
    "\n",
    "    data = data1 + data2\n",
    "    print(data)"
   ]
  },
  {
   "cell_type": "code",
   "execution_count": 23,
   "metadata": {},
   "outputs": [
    {
     "ename": "RuntimeError",
     "evalue": "Expected all tensors to be on the same device, but found at least two devices, cuda:0 and cpu!",
     "output_type": "error",
     "traceback": [
      "\u001b[1;31m---------------------------------------------------------------------------\u001b[0m",
      "\u001b[1;31mRuntimeError\u001b[0m                              Traceback (most recent call last)",
      "Cell \u001b[1;32mIn[23], line 2\u001b[0m\n\u001b[0;32m      1\u001b[0m \u001b[38;5;28;01mif\u001b[39;00m \u001b[38;5;18m__name__\u001b[39m \u001b[38;5;241m==\u001b[39m \u001b[38;5;124m'\u001b[39m\u001b[38;5;124m__main__\u001b[39m\u001b[38;5;124m'\u001b[39m:\n\u001b[1;32m----> 2\u001b[0m     \u001b[43mtest04\u001b[49m\u001b[43m(\u001b[49m\u001b[43m)\u001b[49m\n",
      "Cell \u001b[1;32mIn[22], line 31\u001b[0m, in \u001b[0;36mtest04\u001b[1;34m()\u001b[0m\n\u001b[0;32m     28\u001b[0m data1 \u001b[38;5;241m=\u001b[39m torch\u001b[38;5;241m.\u001b[39mtensor([\u001b[38;5;241m10\u001b[39m,\u001b[38;5;241m20\u001b[39m,\u001b[38;5;241m30\u001b[39m])\n\u001b[0;32m     29\u001b[0m data2 \u001b[38;5;241m=\u001b[39m torch\u001b[38;5;241m.\u001b[39mtensor([\u001b[38;5;241m10\u001b[39m,\u001b[38;5;241m20\u001b[39m,\u001b[38;5;241m30\u001b[39m], device \u001b[38;5;241m=\u001b[39m \u001b[38;5;124m'\u001b[39m\u001b[38;5;124mcuda:0\u001b[39m\u001b[38;5;124m'\u001b[39m)\n\u001b[1;32m---> 31\u001b[0m data \u001b[38;5;241m=\u001b[39m \u001b[43mdata1\u001b[49m\u001b[43m \u001b[49m\u001b[38;5;241;43m+\u001b[39;49m\u001b[43m \u001b[49m\u001b[43mdata2\u001b[49m\n\u001b[0;32m     32\u001b[0m \u001b[38;5;28mprint\u001b[39m(data)\n",
      "\u001b[1;31mRuntimeError\u001b[0m: Expected all tensors to be on the same device, but found at least two devices, cuda:0 and cpu!"
     ]
    }
   ],
   "source": [
    "if __name__ == '__main__':\n",
    "    test04()"
   ]
  }
 ],
 "metadata": {
  "kernelspec": {
   "display_name": "cuda",
   "language": "python",
   "name": "python3"
  },
  "language_info": {
   "codemirror_mode": {
    "name": "ipython",
    "version": 3
   },
   "file_extension": ".py",
   "mimetype": "text/x-python",
   "name": "python",
   "nbconvert_exporter": "python",
   "pygments_lexer": "ipython3",
   "version": "3.11.8"
  }
 },
 "nbformat": 4,
 "nbformat_minor": 2
}
