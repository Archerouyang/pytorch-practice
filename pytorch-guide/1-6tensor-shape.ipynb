{
 "cells": [
  {
   "cell_type": "code",
   "execution_count": 1,
   "metadata": {},
   "outputs": [],
   "source": [
    "import torch"
   ]
  },
  {
   "cell_type": "markdown",
   "metadata": {},
   "source": [
    "# 1. reshape function"
   ]
  },
  {
   "cell_type": "code",
   "execution_count": 14,
   "metadata": {},
   "outputs": [],
   "source": [
    "def test():\n",
    "    torch.manual_seed(10)\n",
    "    data = torch.randint(0, 10, [4, 5])\n",
    "    print(data)\n",
    "    print('-'*30)\n",
    "\n",
    "    # searching tensor shape\n",
    "    print(data.shape, data.shape[0], data.shape[1])\n",
    "    print(data.size(), data.size(0), data.size(1))\n",
    "    print('-'*30)\n",
    "\n",
    "    # change tensor shape\n",
    "    new_data = data.reshape(2,10) # number of elements need to be the same \n",
    "    print(new_data)\n",
    "    # can autofilled using -1 \n",
    "    new_data = data.reshape(2,-1) \n",
    "    print(new_data)"
   ]
  },
  {
   "cell_type": "code",
   "execution_count": 15,
   "metadata": {},
   "outputs": [
    {
     "name": "stdout",
     "output_type": "stream",
     "text": [
      "tensor([[7, 5, 2, 7, 2],\n",
      "        [5, 7, 2, 1, 5],\n",
      "        [6, 3, 1, 0, 6],\n",
      "        [3, 4, 0, 6, 2]])\n",
      "------------------------------\n",
      "torch.Size([4, 5]) 4 5\n",
      "torch.Size([4, 5]) 4 5\n",
      "------------------------------\n",
      "tensor([[7, 5, 2, 7, 2, 5, 7, 2, 1, 5],\n",
      "        [6, 3, 1, 0, 6, 3, 4, 0, 6, 2]])\n",
      "tensor([[7, 5, 2, 7, 2, 5, 7, 2, 1, 5],\n",
      "        [6, 3, 1, 0, 6, 3, 4, 0, 6, 2]])\n"
     ]
    }
   ],
   "source": [
    "if __name__ == '__main__':\n",
    "    test()"
   ]
  },
  {
   "cell_type": "markdown",
   "metadata": {},
   "source": [
    "# 2. transpose and permute"
   ]
  },
  {
   "cell_type": "code",
   "execution_count": 20,
   "metadata": {},
   "outputs": [],
   "source": [
    "# 2.1 transpose\n",
    "def test01():\n",
    "    torch.manual_seed(10)\n",
    "    data = torch.randint(0, 10, [3, 4, 5])\n",
    "    print(data)\n",
    "    print('-'*30)\n",
    "\n",
    "    # chagne to (4, 3, 5)\n",
    "    # recalculate the matrix\n",
    "    new_data = data.reshape(4, 3, 5)\n",
    "    print(new_data.shape)\n",
    "\n",
    "    # directly change values in two dimensions\n",
    "    # note: only can switch two dimensions at one time\n",
    "    new_data = torch.transpose(data, 0, 2)\n",
    "    print(new_data.shape)\n"
   ]
  },
  {
   "cell_type": "code",
   "execution_count": 22,
   "metadata": {},
   "outputs": [
    {
     "name": "stdout",
     "output_type": "stream",
     "text": [
      "tensor([[[7, 5, 2, 7, 2],\n",
      "         [5, 7, 2, 1, 5],\n",
      "         [6, 3, 1, 0, 6],\n",
      "         [3, 4, 0, 6, 2]],\n",
      "\n",
      "        [[8, 9, 2, 0, 9],\n",
      "         [9, 4, 4, 9, 4],\n",
      "         [4, 5, 4, 0, 8],\n",
      "         [9, 3, 0, 9, 3]],\n",
      "\n",
      "        [[7, 9, 5, 2, 9],\n",
      "         [6, 6, 2, 8, 9],\n",
      "         [6, 9, 1, 9, 2],\n",
      "         [1, 2, 9, 7, 2]]])\n",
      "------------------------------\n",
      "torch.Size([4, 3, 5])\n",
      "torch.Size([5, 4, 3])\n"
     ]
    }
   ],
   "source": [
    "if __name__ == '__main__':\n",
    "    test01()"
   ]
  },
  {
   "cell_type": "code",
   "execution_count": 25,
   "metadata": {},
   "outputs": [],
   "source": [
    "# 2.2 permute\n",
    "# switch multiple dimensions at one time\n",
    "def test02():\n",
    "    torch.manual_seed(10)\n",
    "    data = torch.randint(0, 10, [3, 4, 5])\n",
    "    \n",
    "    new_data = torch.permute(data, [1, 2, 0])\n",
    "    print(new_data.shape)\n",
    "    print('-'*30)\n",
    "    "
   ]
  },
  {
   "cell_type": "code",
   "execution_count": 26,
   "metadata": {},
   "outputs": [
    {
     "name": "stdout",
     "output_type": "stream",
     "text": [
      "torch.Size([4, 5, 3])\n",
      "------------------------------\n"
     ]
    }
   ],
   "source": [
    "if __name__ == '__main__':\n",
    "    test02()"
   ]
  },
  {
   "cell_type": "markdown",
   "metadata": {},
   "source": [
    "# 3. view and contigous"
   ]
  },
  {
   "cell_type": "code",
   "execution_count": 47,
   "metadata": {},
   "outputs": [],
   "source": [
    "# view function\n",
    "def test01():\n",
    "    data = torch.tensor([[10, 20, 30], [40, 50, 60]])\n",
    "    data = data.view(3,2)\n",
    "    print(data.shape)\n",
    "\n",
    "    # is_contiguous: check tensor is continuous\n",
    "    print(data.is_contiguous())\n",
    "\n",
    "def test02():\n",
    "    # note: after using transpose or permute functions, memory space is not contnuous\n",
    "    data = torch.tensor([[10, 20, 30], [40, 50, 60]])\n",
    "    print('是否连续:', data.is_contiguous())\n",
    "    data = torch.transpose(data, 0, 1)\n",
    "    print('是否连续:', data.is_contiguous())\n",
    "\n",
    "    data = data.contiguous().view(2,3)\n",
    "    print(data)"
   ]
  },
  {
   "cell_type": "code",
   "execution_count": 48,
   "metadata": {},
   "outputs": [
    {
     "name": "stdout",
     "output_type": "stream",
     "text": [
      "torch.Size([3, 2])\n",
      "True\n"
     ]
    }
   ],
   "source": [
    "if __name__ == '__main__':\n",
    "    test01()"
   ]
  },
  {
   "cell_type": "code",
   "execution_count": 56,
   "metadata": {},
   "outputs": [],
   "source": [
    "def test02():\n",
    "    # note: after using transpose or permute functions, memory space is not contnuous\n",
    "    data = torch.tensor([[10, 20, 30], [40, 50, 60]])\n",
    "    print(data)\n",
    "    print('是否连续:', data.is_contiguous())\n",
    "    data = torch.transpose(data, 0, 1)\n",
    "    print(data)\n",
    "    print('是否连续:', data.is_contiguous())\n",
    "\n",
    "    data = data.contiguous().view(2,3)\n",
    "    print(data)"
   ]
  },
  {
   "cell_type": "code",
   "execution_count": 57,
   "metadata": {},
   "outputs": [
    {
     "name": "stdout",
     "output_type": "stream",
     "text": [
      "tensor([[10, 20, 30],\n",
      "        [40, 50, 60]])\n",
      "是否连续: True\n",
      "tensor([[10, 40],\n",
      "        [20, 50],\n",
      "        [30, 60]])\n",
      "是否连续: False\n",
      "tensor([[10, 40, 20],\n",
      "        [50, 30, 60]])\n"
     ]
    }
   ],
   "source": [
    "if __name__ == '__main__':\n",
    "    test02()"
   ]
  },
  {
   "cell_type": "markdown",
   "metadata": {},
   "source": [
    "# 4. squeeze and unsqueeze"
   ]
  },
  {
   "cell_type": "code",
   "execution_count": 70,
   "metadata": {},
   "outputs": [],
   "source": [
    "# 4.1 squeeze function\n",
    "def test01():\n",
    "    data = torch.randint(0, 10, [1, 3, 1, 5])\n",
    "    print(data.shape)\n",
    "    print(data)\n",
    "    print('-'*30)\n",
    "\n",
    "    # clear all dimension 1\n",
    "    new_data = data.squeeze()\n",
    "    print(new_data.shape)\n",
    "    print(new_data)\n",
    "    print('-'*30)\n",
    "\n",
    "    # clear target dimension 1\n",
    "    new_data = data.squeeze(2)\n",
    "    print(new_data.shape)\n",
    "    print(new_data)\n"
   ]
  },
  {
   "cell_type": "code",
   "execution_count": 71,
   "metadata": {},
   "outputs": [
    {
     "name": "stdout",
     "output_type": "stream",
     "text": [
      "torch.Size([1, 3, 1, 5])\n",
      "tensor([[[[8, 5, 9, 8, 3]],\n",
      "\n",
      "         [[8, 4, 8, 6, 9]],\n",
      "\n",
      "         [[5, 0, 4, 0, 3]]]])\n",
      "------------------------------\n",
      "torch.Size([3, 5])\n",
      "tensor([[8, 5, 9, 8, 3],\n",
      "        [8, 4, 8, 6, 9],\n",
      "        [5, 0, 4, 0, 3]])\n",
      "------------------------------\n",
      "torch.Size([1, 3, 5])\n",
      "tensor([[[8, 5, 9, 8, 3],\n",
      "         [8, 4, 8, 6, 9],\n",
      "         [5, 0, 4, 0, 3]]])\n"
     ]
    }
   ],
   "source": [
    "if __name__ == '__main__':\n",
    "    test01()"
   ]
  },
  {
   "cell_type": "code",
   "execution_count": 77,
   "metadata": {},
   "outputs": [],
   "source": [
    "# 4.2 unsqueeze function\n",
    "def test02():\n",
    "    data = torch.randint(0, 10, [3, 5])\n",
    "    print(data.shape)\n",
    "    print(data)\n",
    "    print('-'*30)\n",
    "\n",
    "    # use unsqueeze to increase dimension\n",
    "    new_data = data.unsqueeze(1)\n",
    "    print(new_data.shape)\n",
    "    print(new_data)\n",
    "    print('-'*30)\n",
    "\n",
    "    new_data = data.unsqueeze(-1)\n",
    "    print(new_data.shape)\n",
    "    print(new_data)\n",
    "    print('-'*30)"
   ]
  },
  {
   "cell_type": "code",
   "execution_count": 78,
   "metadata": {},
   "outputs": [
    {
     "name": "stdout",
     "output_type": "stream",
     "text": [
      "torch.Size([3, 5])\n",
      "tensor([[5, 5, 7, 1, 5],\n",
      "        [0, 0, 9, 1, 0],\n",
      "        [9, 9, 9, 4, 9]])\n",
      "------------------------------\n",
      "torch.Size([3, 1, 5])\n",
      "tensor([[[5, 5, 7, 1, 5]],\n",
      "\n",
      "        [[0, 0, 9, 1, 0]],\n",
      "\n",
      "        [[9, 9, 9, 4, 9]]])\n",
      "------------------------------\n",
      "torch.Size([3, 5, 1])\n",
      "tensor([[[5],\n",
      "         [5],\n",
      "         [7],\n",
      "         [1],\n",
      "         [5]],\n",
      "\n",
      "        [[0],\n",
      "         [0],\n",
      "         [9],\n",
      "         [1],\n",
      "         [0]],\n",
      "\n",
      "        [[9],\n",
      "         [9],\n",
      "         [9],\n",
      "         [4],\n",
      "         [9]]])\n",
      "------------------------------\n"
     ]
    }
   ],
   "source": [
    "if __name__ == '__main__':\n",
    "    test02()"
   ]
  }
 ],
 "metadata": {
  "kernelspec": {
   "display_name": "cuda",
   "language": "python",
   "name": "python3"
  },
  "language_info": {
   "codemirror_mode": {
    "name": "ipython",
    "version": 3
   },
   "file_extension": ".py",
   "mimetype": "text/x-python",
   "name": "python",
   "nbconvert_exporter": "python",
   "pygments_lexer": "ipython3",
   "version": "3.11.8"
  }
 },
 "nbformat": 4,
 "nbformat_minor": 2
}
