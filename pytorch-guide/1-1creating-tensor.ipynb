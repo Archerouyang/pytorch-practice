{
 "cells": [
  {
   "cell_type": "code",
   "execution_count": 3,
   "metadata": {},
   "outputs": [],
   "source": [
    "import torch\n",
    "import numpy as np"
   ]
  },
  {
   "cell_type": "markdown",
   "metadata": {},
   "source": [
    "## part1 creating tensors"
   ]
  },
  {
   "cell_type": "code",
   "execution_count": 18,
   "metadata": {},
   "outputs": [],
   "source": [
    "# 1. 根据已有的数据创建张量（tensor）\n",
    "def test01():\n",
    "\n",
    "    # 1.1 创建标量\n",
    "    data = torch.tensor(10)\n",
    "    print(data)\n",
    "    # 1.2 使用numpy array来创建\n",
    "    data = np.random.randn(2,3)\n",
    "    data = torch.tensor(data)\n",
    "    print(data)\n",
    "    # 1.3 使用list来创建\n",
    "    data = [[10., 20., 30.],[20., 20., 30.]]\n",
    "    data = torch.tensor(data)\n",
    "    print(data)\n",
    "\n",
    "# 2. 创建指定形状的张量\n",
    "def test02():\n",
    "\n",
    "    # 2.1 2行 3列\n",
    "    data = torch.Tensor(2,3) #制定形状用大写T\n",
    "    print(data)\n",
    "\n",
    "    # 2.2 创建制定值\n",
    "    # 传递列表\n",
    "    data = torch.Tensor([2,3])\n",
    "    print(data)\n",
    "\n",
    "# 3. 创建指定类型的张量\n",
    "def test03():\n",
    "    # int32 类型\n",
    "    data = torch.IntTensor(2,3)\n",
    "    print(data)\n",
    "\n",
    "    #torch.ShortTensor(2,3) # int16 类型\n",
    "    #torch.LongTensor(2,3) # int32 类型\n",
    "    #torch.FloatTensor(2,3) # float32 类型\n",
    "\n",
    "    #如果创建指定类型的张量与传递类型不匹配，会发生类型转换\n"
   ]
  },
  {
   "cell_type": "code",
   "execution_count": 19,
   "metadata": {},
   "outputs": [
    {
     "name": "stdout",
     "output_type": "stream",
     "text": [
      "tensor([[1388512288,        699,          0],\n",
      "        [         0,          0,          0]], dtype=torch.int32)\n"
     ]
    }
   ],
   "source": [
    "if __name__ == '__main__':\n",
    "    test03()"
   ]
  },
  {
   "cell_type": "markdown",
   "metadata": {},
   "source": [
    "## part2 creating specific tensors"
   ]
  },
  {
   "cell_type": "code",
   "execution_count": null,
   "metadata": {},
   "outputs": [],
   "source": [
    "# functions\n",
    "# 1. torch.arange && torch.linspace\n",
    "# 2. torch.randominit_seed && torch.manual_seed\n",
    "# 3. torch.randn"
   ]
  },
  {
   "cell_type": "code",
   "execution_count": 4,
   "metadata": {},
   "outputs": [],
   "source": [
    "# 1. 创建线性空间的张量\n",
    "def test01():\n",
    "    # 1.1. 在指定区间按照步长生成元素[srat, end, step)\n",
    "    data = torch.arange(0, 10, 2)\n",
    "    print(data)\n",
    "    \n",
    "    # 1.2. 在指定区间指定元素个数[srat, end, number)\n",
    "    data = torch.linspace(0, 10, 1000)\n",
    "    print(data)\n",
    "# 2. 创建随机张量\n",
    "def test02():\n",
    "    # 固定随机数种子\n",
    "    torch.manual_seed(10)\n",
    "    # 2.1 创建随机张量\n",
    "    data = torch.randn(2, 2,3) #number of matrices, row, col\n",
    "    print(data)\n",
    "    # 2.2 固定随机数\n",
    "    print(\"random seed:\", torch.random.initial_seed())\n"
   ]
  },
  {
   "cell_type": "code",
   "execution_count": 5,
   "metadata": {},
   "outputs": [
    {
     "name": "stdout",
     "output_type": "stream",
     "text": [
      "tensor([[[-0.6014, -1.0122, -0.3023],\n",
      "         [-1.2277,  0.9198, -0.3485]],\n",
      "\n",
      "        [[-0.8692, -0.9582, -1.1920],\n",
      "         [ 1.9050, -0.9373, -0.8465]]])\n",
      "random seed: 10\n"
     ]
    }
   ],
   "source": [
    "if __name__ == '__main__':\n",
    "    test02()"
   ]
  },
  {
   "cell_type": "markdown",
   "metadata": {},
   "source": [
    "## part3 creating 0&1s tensors"
   ]
  },
  {
   "cell_type": "code",
   "execution_count": null,
   "metadata": {},
   "outputs": [],
   "source": [
    "# functions\n",
    "# 1. torch.ones && torch.ones_like\n",
    "# 2. torch.zeros && torch.zeros_like\n",
    "# 3. torch.full && torch.full_like"
   ]
  },
  {
   "cell_type": "code",
   "execution_count": 27,
   "metadata": {},
   "outputs": [],
   "source": [
    "# 1. creating all 0s tensor\n",
    "def test01():\n",
    "    # 1.1 creating specific shape of all 0s tensor\n",
    "    data = torch.zeros(2,3)\n",
    "    print(data)\n",
    "    # 1.2 according to other data's shape\n",
    "    data = torch.zeros_like(data)\n",
    "    print(data)\n",
    "# 2. creating all 1s tensor\n",
    "def test02():\n",
    "    # 2.1 creating specific shape of all 1s tensor\n",
    "    data = torch.ones(2,3)\n",
    "    print(data)\n",
    "    # 2.2 according to other data's shape\n",
    "    data = torch.ones_like(data)\n",
    "    print(data)\n",
    "# 3. creating given value tensor\n",
    "def test03():\n",
    "    # 3.1 creating a (2,3) shape all 10s tensor (shape, value)\n",
    "    data = torch.full([2,3], 10)\n",
    "    print(data)\n",
    "    # 3.2 creating a shape as same as the data and all 200s tensor\n",
    "    data = torch.full_like(data, 200)\n",
    "    print(data)"
   ]
  },
  {
   "cell_type": "code",
   "execution_count": 28,
   "metadata": {},
   "outputs": [
    {
     "name": "stdout",
     "output_type": "stream",
     "text": [
      "tensor([[10, 10, 10],\n",
      "        [10, 10, 10]])\n",
      "tensor([[200, 200, 200],\n",
      "        [200, 200, 200]])\n"
     ]
    }
   ],
   "source": [
    "if __name__ == '__main__':\n",
    "    test03()"
   ]
  },
  {
   "cell_type": "markdown",
   "metadata": {},
   "source": [
    "# part4 get the type of tensors"
   ]
  },
  {
   "cell_type": "code",
   "execution_count": null,
   "metadata": {},
   "outputs": [],
   "source": [
    "# functions\n",
    "#1. tensor.type(torch.DouableTensor)\n",
    "#2. torch.double()"
   ]
  },
  {
   "cell_type": "code",
   "execution_count": 36,
   "metadata": {},
   "outputs": [],
   "source": [
    "# 1. type function\n",
    "def test01():\n",
    "    data = torch.full([2,3], 10)\n",
    "    print(data.dtype)\n",
    "    \n",
    "    data = data.type(torch.DoubleTensor)\n",
    "    print(data.dtype)\n",
    "# 2. specific type function\n",
    "def test02():\n",
    "    data = torch.full([2,3], 10)\n",
    "    print(data.dtype)\n",
    "\n",
    "    data = data.double()\n",
    "    print(data.dtype)\n",
    "\n",
    "\n"
   ]
  },
  {
   "cell_type": "code",
   "execution_count": 37,
   "metadata": {},
   "outputs": [
    {
     "name": "stdout",
     "output_type": "stream",
     "text": [
      "torch.int64\n",
      "torch.float64\n"
     ]
    }
   ],
   "source": [
    "if __name__ == '__main__':\n",
    "    test02()"
   ]
  }
 ],
 "metadata": {
  "kernelspec": {
   "display_name": "cuda",
   "language": "python",
   "name": "python3"
  },
  "language_info": {
   "codemirror_mode": {
    "name": "ipython",
    "version": 3
   },
   "file_extension": ".py",
   "mimetype": "text/x-python",
   "name": "python",
   "nbconvert_exporter": "python",
   "pygments_lexer": "ipython3",
   "version": "3.11.8"
  }
 },
 "nbformat": 4,
 "nbformat_minor": 2
}
