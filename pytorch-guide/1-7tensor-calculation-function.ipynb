{
 "cells": [
  {
   "cell_type": "code",
   "execution_count": 1,
   "metadata": {},
   "outputs": [],
   "source": [
    "import torch"
   ]
  },
  {
   "cell_type": "code",
   "execution_count": 21,
   "metadata": {},
   "outputs": [],
   "source": [
    "# average\n",
    "def test01():\n",
    "    torch.manual_seed(0)\n",
    "    data = torch.randint(0, 10, [2, 3], dtype =torch.float64)\n",
    "    print(data)\n",
    "    print(data.mean())\n",
    "    # by col or row or other dimensions\n",
    "    print(data.mean(dim=1))\n",
    "    print('-'*30)\n",
    "    \n",
    "# summation\n",
    "def test02():\n",
    "    torch.manual_seed(0)\n",
    "    data = torch.randint(0, 10, [2, 3], dtype =torch.float64)\n",
    "    print(data)\n",
    "    print(data.sum())\n",
    "    # by col or row or other dimensions\n",
    "    print(data.sum(dim=1))\n",
    "    print('-'*30)\n",
    "# square # pow()\n",
    "def test03():\n",
    "    torch.manual_seed(0)\n",
    "    data = torch.randint(0, 10, [2, 3], dtype =torch.float64)\n",
    "    print(data)\n",
    "    print(data.pow(2))\n",
    "    print('-'*30)\n",
    "# square root # sqrt()\n",
    "def test04():\n",
    "    torch.manual_seed(0)\n",
    "    data = torch.randint(0, 10, [2, 3], dtype =torch.float64)\n",
    "    print(data)\n",
    "    print(data.sqrt())\n",
    "    print('-'*30)\n",
    "# exponential # exp()\n",
    "def test05():\n",
    "    torch.manual_seed(0)\n",
    "    data = torch.randint(0, 10, [2, 3], dtype =torch.float64)\n",
    "    print(data)\n",
    "    print(data.exp())\n",
    "    print('-'*30)\n",
    "# log/ln # log()\n",
    "def test06():\n",
    "    torch.manual_seed(0)\n",
    "    data = torch.randint(0, 10, [2, 3], dtype =torch.float64)\n",
    "    print(data)\n",
    "    print(data.log())\n",
    "    print('-'*30)"
   ]
  },
  {
   "cell_type": "code",
   "execution_count": 23,
   "metadata": {},
   "outputs": [
    {
     "name": "stdout",
     "output_type": "stream",
     "text": [
      "tensor([[4., 9., 3.],\n",
      "        [0., 3., 9.]], dtype=torch.float64)\n",
      "tensor([[1.3863, 2.1972, 1.0986],\n",
      "        [  -inf, 1.0986, 2.1972]], dtype=torch.float64)\n",
      "------------------------------\n"
     ]
    }
   ],
   "source": [
    "if __name__ == '__main__':\n",
    "    test06()"
   ]
  }
 ],
 "metadata": {
  "kernelspec": {
   "display_name": "cuda",
   "language": "python",
   "name": "python3"
  },
  "language_info": {
   "codemirror_mode": {
    "name": "ipython",
    "version": 3
   },
   "file_extension": ".py",
   "mimetype": "text/x-python",
   "name": "python",
   "nbconvert_exporter": "python",
   "pygments_lexer": "ipython3",
   "version": "3.11.8"
  }
 },
 "nbformat": 4,
 "nbformat_minor": 2
}
