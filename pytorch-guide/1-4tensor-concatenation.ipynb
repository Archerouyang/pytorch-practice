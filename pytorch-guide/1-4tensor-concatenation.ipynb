{
 "cells": [
  {
   "cell_type": "code",
   "execution_count": 1,
   "metadata": {},
   "outputs": [],
   "source": [
    "import torch"
   ]
  },
  {
   "cell_type": "markdown",
   "metadata": {},
   "source": [
    "# 1. function torch.cat"
   ]
  },
  {
   "cell_type": "code",
   "execution_count": 16,
   "metadata": {},
   "outputs": [],
   "source": [
    "def test():\n",
    "    torch.manual_seed(10)\n",
    "    data1 = torch.randint(0, 10, [3, 4, 5])\n",
    "    data2 = torch.randint(0, 10, [3, 4, 5])\n",
    "\n",
    "    print(data1.shape)\n",
    "    print(data2.shape)\n",
    "\n",
    "    # 1. concate using 0 dimension\n",
    "    data_new = torch.cat([data1, data2], dim = 0)\n",
    "    print(data_new.shape)\n",
    "\n",
    "    # 2. using 1 dimension\n",
    "    data_new = torch.cat([data1, data2], dim = 1)\n",
    "    print(data_new.shape)\n",
    "\n",
    "    # 2. using 2 dimension\n",
    "    data_new = torch.cat([data1, data2], dim = 2)\n",
    "    print(data_new.shape)"
   ]
  },
  {
   "cell_type": "code",
   "execution_count": 17,
   "metadata": {},
   "outputs": [
    {
     "name": "stdout",
     "output_type": "stream",
     "text": [
      "torch.Size([3, 4, 5])\n",
      "torch.Size([3, 4, 5])\n",
      "torch.Size([6, 4, 5])\n",
      "torch.Size([3, 8, 5])\n",
      "torch.Size([3, 4, 10])\n"
     ]
    }
   ],
   "source": [
    "if __name__ == '__main__':\n",
    "    test()"
   ]
  },
  {
   "cell_type": "markdown",
   "metadata": {},
   "source": [
    "# 2. function torch.stack"
   ]
  },
  {
   "cell_type": "code",
   "execution_count": 30,
   "metadata": {},
   "outputs": [],
   "source": [
    "def test():\n",
    "    torch.manual_seed(10)\n",
    "    data1 = torch.randint(0, 10, [2,3])\n",
    "    data2 = torch.randint(0, 10, [2,3])\n",
    "    print(data1)\n",
    "    print(data2)\n",
    "\n",
    "    # 1. 0 dimension\n",
    "    data_new = torch.stack([data1, data2], dim = 0) # whole single tensor\n",
    "    print(data_new)\n",
    "\n",
    "    # 2. 1 dimension\n",
    "    data_new = torch.stack([data1, data2], dim = 1) # each row of single tensor\n",
    "    print(data_new)\n",
    "\n",
    "    # 3. 2 dimension\n",
    "    data_new = torch.stack([data1, data2], dim = 2) # each column of single tensor\n",
    "    print(data_new)\n"
   ]
  },
  {
   "cell_type": "code",
   "execution_count": 31,
   "metadata": {},
   "outputs": [
    {
     "name": "stdout",
     "output_type": "stream",
     "text": [
      "tensor([[7, 5, 2],\n",
      "        [7, 2, 5]])\n",
      "tensor([[7, 2, 1],\n",
      "        [5, 6, 3]])\n",
      "tensor([[[7, 5, 2],\n",
      "         [7, 2, 5]],\n",
      "\n",
      "        [[7, 2, 1],\n",
      "         [5, 6, 3]]])\n",
      "tensor([[[7, 5, 2],\n",
      "         [7, 2, 1]],\n",
      "\n",
      "        [[7, 2, 5],\n",
      "         [5, 6, 3]]])\n",
      "tensor([[[7, 7],\n",
      "         [5, 2],\n",
      "         [2, 1]],\n",
      "\n",
      "        [[7, 5],\n",
      "         [2, 6],\n",
      "         [5, 3]]])\n"
     ]
    }
   ],
   "source": [
    "if __name__ == '__main__':\n",
    "    test()"
   ]
  }
 ],
 "metadata": {
  "kernelspec": {
   "display_name": "cuda",
   "language": "python",
   "name": "python3"
  },
  "language_info": {
   "codemirror_mode": {
    "name": "ipython",
    "version": 3
   },
   "file_extension": ".py",
   "mimetype": "text/x-python",
   "name": "python",
   "nbconvert_exporter": "python",
   "pygments_lexer": "ipython3",
   "version": "3.11.8"
  }
 },
 "nbformat": 4,
 "nbformat_minor": 2
}
