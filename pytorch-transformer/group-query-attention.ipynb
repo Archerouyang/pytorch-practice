{
 "cells": [
  {
   "cell_type": "code",
   "execution_count": 4,
   "metadata": {},
   "outputs": [],
   "source": [
    "import math\n",
    "import torch\n",
    "import torch.nn as nn"
   ]
  },
  {
   "cell_type": "code",
   "execution_count": 5,
   "metadata": {},
   "outputs": [],
   "source": [
    "# omit attention_mask, attention_dropout\n",
    "class GroupQueryAttention(nn.Module):\n",
    "    def __init__(self, hidden_dim, head_num, nums_key_value_head):\n",
    "        super().__init__()\n",
    "        assert hidden_dim%head_num == 0\n",
    "        assert head_num%nums_key_value_head == 0 # n of query head as a group, nums_key_value_head is num of groups\n",
    "\n",
    "        self.hidden_dim = hidden_dim\n",
    "        self.head_num = head_num\n",
    "        self.head_dim = hidden_dim//head_num\n",
    "        self.nums_key_value_head = nums_key_value_head \n",
    "        \n",
    "        self.q_proj = nn.Linear(hidden_dim, hidden_dim)\n",
    "        \n",
    "        self.k_proj = nn.Linear(hidden_dim, nums_key_value_head*self.head_dim)\n",
    "        self.v_proj = nn.Linear(hidden_dim, nums_key_value_head*self.head_dim)\n",
    "\n",
    "        self.o_proj = nn.Linear(hidden_dim, hidden_dim)\n",
    "\n",
    "    def forward(self, X, attention_mask = None):\n",
    "        # X shape (batch, seq, hidden_dim)\n",
    "        batch_size, seq, _ = X.size()\n",
    "\n",
    "        #q, k, v projection\n",
    "        q = self.q_proj(X)\n",
    "        k = self.k_proj(X)\n",
    "        v = self.v_proj(X)\n",
    "\n",
    "        # attention_weight target: shape (batch, head_num, seq, seq)\n",
    "\n",
    "        q = q.view(batch_size, seq, self.head_num, self.head_dim)\n",
    "        k = k.view(batch_size, seq, self.nums_key_value_head, self.head_dim)\n",
    "        v = v.view(batch_size, seq, self.nums_key_value_head, self.head_dim)\n",
    "\n",
    "        # reshape to (batch, head_num, seq, head_dim)\n",
    "        q = q.transpose(1,2)\n",
    "        k = v.transpose(1,2)\n",
    "        v = v.transpose(1,2)\n",
    "\n",
    "        # augement k&v dimension by repeat\n",
    "        k = k.repeat_interleave(self.head_num // self.nums_key_value_head, dim = 1) # repeat on dimension of nums_key_value_head\n",
    "        v = v.repeat_interleave(self.head_num // self.nums_key_value_head, dim = 1)\n",
    "\n",
    "        attention_score = (q @ k.transpose(2, 3)) / math.sqrt(self.head_dim) #cancel out head_dim seq\n",
    "\n",
    "        attention_weight = torch.softmax(attention_score, dim = -1)\n",
    "\n",
    "        # shape (batch, head_num, seq, seq) @ (batch, head_num, seq, head_dim) = (batch, head_num, seq, head_dim)\n",
    "        output = attention_weight @ v\n",
    "\n",
    "        # output projection to shape(batch, seq, hidden_dim)\n",
    "\n",
    "        output = output.transpose(1,2).contigous() # menmeroy continuous \n",
    "        output = output.view(batch_size, seq, -1)\n",
    "        final_output = self.o_proj(output)\n",
    "\n",
    "        return final_output\n",
    "\n",
    "\n",
    "        \n",
    "\n"
   ]
  },
  {
   "cell_type": "code",
   "execution_count": null,
   "metadata": {},
   "outputs": [],
   "source": []
  }
 ],
 "metadata": {
  "kernelspec": {
   "display_name": "Python 3",
   "language": "python",
   "name": "python3"
  },
  "language_info": {
   "codemirror_mode": {
    "name": "ipython",
    "version": 3
   },
   "file_extension": ".py",
   "mimetype": "text/x-python",
   "name": "python",
   "nbconvert_exporter": "python",
   "pygments_lexer": "ipython3",
   "version": "3.11.8"
  }
 },
 "nbformat": 4,
 "nbformat_minor": 2
}
